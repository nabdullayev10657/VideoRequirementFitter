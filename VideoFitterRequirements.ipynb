{
  "nbformat": 4,
  "nbformat_minor": 0,
  "metadata": {
    "colab": {
      "provenance": []
    },
    "kernelspec": {
      "name": "python3",
      "display_name": "Python 3"
    },
    "language_info": {
      "name": "python"
    }
  },
  "cells": [
    {
      "cell_type": "code",
      "source": [
        "!pip install ffmpeg-python"
      ],
      "metadata": {
        "colab": {
          "base_uri": "https://localhost:8080/"
        },
        "id": "TlhhGzkxmkTH",
        "outputId": "70f89751-bbf1-4bd9-ed29-931a7986a389"
      },
      "execution_count": 1,
      "outputs": [
        {
          "output_type": "stream",
          "name": "stdout",
          "text": [
            "Looking in indexes: https://pypi.org/simple, https://us-python.pkg.dev/colab-wheels/public/simple/\n",
            "Requirement already satisfied: ffmpeg-python in /usr/local/lib/python3.9/dist-packages (0.2.0)\n",
            "Requirement already satisfied: future in /usr/local/lib/python3.9/dist-packages (from ffmpeg-python) (0.18.3)\n"
          ]
        }
      ]
    },
    {
      "cell_type": "code",
      "execution_count": 2,
      "metadata": {
        "colab": {
          "base_uri": "https://localhost:8080/"
        },
        "id": "JhzEy0GBjFs2",
        "outputId": "d4410b87-662b-4bb6-9b11-ef3c3c5cd4d1"
      },
      "outputs": [
        {
          "output_type": "execute_result",
          "data": {
            "text/plain": [
              "(None, None)"
            ]
          },
          "metadata": {},
          "execution_count": 2
        }
      ],
      "source": [
        "import ffmpeg\n",
        "\n",
        "# Input file\n",
        "input_file = \"vi.mp4\"\n",
        "\n",
        "# Output file\n",
        "output_file = \"abdullayev_nihat_hw_07.mp4\"\n",
        "\n",
        "# Set resolution to 480x360\n",
        "stream = ffmpeg.input(input_file)\n",
        "stream = ffmpeg.filter(stream, 'scale', size='480x360')\n",
        "\n",
        "# Compress video to less than 10 MB\n",
        "stream = ffmpeg.output(stream, output_file, bitrate='10000k')\n",
        "\n",
        "# Run the FFmpeg command\n",
        "ffmpeg.run(stream)"
      ]
    }
  ]
}